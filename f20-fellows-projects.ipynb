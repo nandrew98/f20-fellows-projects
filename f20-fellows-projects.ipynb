{
 "cells": [
  {
   "cell_type": "markdown",
   "metadata": {},
   "source": [
    "# Fellows Project: Sports Political Donations"
   ]
  },
  {
   "cell_type": "markdown",
   "metadata": {},
   "source": [
    "## Andrew Nguyen\n",
    "\n",
    "The data contains information following the story from https://fivethirtyeight.com/features/inside-the-political-donation-history-of-wealthy-sports-owners/\n",
    "\n",
    "The dataset contains every confirmed partisan political contribution from team owners and commissioners in the NFL, NBA, WNBA, NHL, MLB and NASCAR. Only contributions while owners were involved with the team are included. The data is from the Federal Election Commission and OpenSecrets and can be found here: https://github.com/fivethirtyeight/data/tree/master/sports-political-donations"
   ]
  },
  {
   "cell_type": "code",
   "execution_count": 79,
   "metadata": {},
   "outputs": [
    {
     "data": {
      "text/html": [
       "<table border=\"1\" class=\"dataframe\">\n",
       "    <thead>\n",
       "        <tr>\n",
       "            <th>Owner</th> <th>Team</th> <th>League</th> <th>Recipient</th> <th>Amount</th> <th>Election Year</th> <th>Party</th>\n",
       "        </tr>\n",
       "    </thead>\n",
       "    <tbody>\n",
       "        <tr>\n",
       "            <td>Adam Silver</td> <td>Commissioner</td> <td>NBA   </td> <td>WRIGHT 2016                 </td> <td>$4,000 </td> <td>2016         </td> <td>Democrat</td>\n",
       "        </tr>\n",
       "        <tr>\n",
       "            <td>Adam Silver</td> <td>Commissioner</td> <td>NBA   </td> <td>BIDEN FOR PRESIDENT         </td> <td>$2,800 </td> <td>2020         </td> <td>Democrat</td>\n",
       "        </tr>\n",
       "        <tr>\n",
       "            <td>Adam Silver</td> <td>Commissioner</td> <td>NBA   </td> <td>CORY 2020                   </td> <td>$2,700 </td> <td>2020         </td> <td>Democrat</td>\n",
       "        </tr>\n",
       "        <tr>\n",
       "            <td>Adam Silver</td> <td>Commissioner</td> <td>NBA   </td> <td>Kamala Harris for the People</td> <td>$2,700 </td> <td>2020         </td> <td>Democrat</td>\n",
       "        </tr>\n",
       "        <tr>\n",
       "            <td>Adam Silver</td> <td>Commissioner</td> <td>NBA   </td> <td>Win The Era PAC             </td> <td>$2,700 </td> <td>2020         </td> <td>Democrat</td>\n",
       "        </tr>\n",
       "        <tr>\n",
       "            <td>Adam Silver</td> <td>Commissioner</td> <td>NBA   </td> <td>KOHL FOR CONGRESS           </td> <td>$2,000 </td> <td>2018         </td> <td>Democrat</td>\n",
       "        </tr>\n",
       "        <tr>\n",
       "            <td>Adam Silver</td> <td>Commissioner</td> <td>NBA   </td> <td>BETO FOR TEXAS              </td> <td>$1,000 </td> <td>2018         </td> <td>Democrat</td>\n",
       "        </tr>\n",
       "        <tr>\n",
       "            <td>Adam Silver</td> <td>Commissioner</td> <td>NBA   </td> <td>MONTANANS FOR TESTER        </td> <td>$1,000 </td> <td>2018         </td> <td>Democrat</td>\n",
       "        </tr>\n",
       "        <tr>\n",
       "            <td>Adam Silver</td> <td>Commissioner</td> <td>NBA   </td> <td>SERVE AMERICA PAC           </td> <td>$1,000 </td> <td>2018         </td> <td>Democrat</td>\n",
       "        </tr>\n",
       "        <tr>\n",
       "            <td>Adam Silver</td> <td>Commissioner</td> <td>NBA   </td> <td>ADAM SCHLEIFER FOR CONGRESS </td> <td>$1,000 </td> <td>2020         </td> <td>Democrat</td>\n",
       "        </tr>\n",
       "    </tbody>\n",
       "</table>\n",
       "<p>... (2788 rows omitted)</p>"
      ],
      "text/plain": [
       "Owner       | Team         | League | Recipient                    | Amount  | Election Year | Party\n",
       "Adam Silver | Commissioner | NBA    | WRIGHT 2016                  | $4,000  | 2016          | Democrat\n",
       "Adam Silver | Commissioner | NBA    | BIDEN FOR PRESIDENT          | $2,800  | 2020          | Democrat\n",
       "Adam Silver | Commissioner | NBA    | CORY 2020                    | $2,700  | 2020          | Democrat\n",
       "Adam Silver | Commissioner | NBA    | Kamala Harris for the People | $2,700  | 2020          | Democrat\n",
       "Adam Silver | Commissioner | NBA    | Win The Era PAC              | $2,700  | 2020          | Democrat\n",
       "Adam Silver | Commissioner | NBA    | KOHL FOR CONGRESS            | $2,000  | 2018          | Democrat\n",
       "Adam Silver | Commissioner | NBA    | BETO FOR TEXAS               | $1,000  | 2018          | Democrat\n",
       "Adam Silver | Commissioner | NBA    | MONTANANS FOR TESTER         | $1,000  | 2018          | Democrat\n",
       "Adam Silver | Commissioner | NBA    | SERVE AMERICA PAC            | $1,000  | 2018          | Democrat\n",
       "Adam Silver | Commissioner | NBA    | ADAM SCHLEIFER FOR CONGRESS  | $1,000  | 2020          | Democrat\n",
       "... (2788 rows omitted)"
      ]
     },
     "execution_count": 79,
     "metadata": {},
     "output_type": "execute_result"
    }
   ],
   "source": [
    "from datascience import *\n",
    "import numpy as np\n",
    "import matplotlib\n",
    "%matplotlib inline\n",
    "import matplotlib.pyplot as plt\n",
    "plt.style.use('fivethirtyeight')\n",
    "import warnings\n",
    "warnings.simplefilter('ignore', FutureWarning)\n",
    "\n",
    "\n",
    "sports_don = Table.read_table('sports-political-donations.csv')\n",
    "sports_don"
   ]
  },
  {
   "cell_type": "markdown",
   "metadata": {},
   "source": [
    "Group the political parties to get the count data so we can visualize it. "
   ]
  },
  {
   "cell_type": "code",
   "execution_count": 63,
   "metadata": {},
   "outputs": [
    {
     "data": {
      "text/html": [
       "<table border=\"1\" class=\"dataframe\">\n",
       "    <thead>\n",
       "        <tr>\n",
       "            <th>Party</th> <th>count</th>\n",
       "        </tr>\n",
       "    </thead>\n",
       "    <tbody>\n",
       "        <tr>\n",
       "            <td>Bipartisan                       </td> <td>195  </td>\n",
       "        </tr>\n",
       "        <tr>\n",
       "            <td>Bipartisan, but mostly Democratic</td> <td>5    </td>\n",
       "        </tr>\n",
       "        <tr>\n",
       "            <td>Bipartisan, but mostly Republican</td> <td>40   </td>\n",
       "        </tr>\n",
       "        <tr>\n",
       "            <td>Democrat                         </td> <td>921  </td>\n",
       "        </tr>\n",
       "        <tr>\n",
       "            <td>Independent                      </td> <td>3    </td>\n",
       "        </tr>\n",
       "        <tr>\n",
       "            <td>Republican                       </td> <td>1625 </td>\n",
       "        </tr>\n",
       "        <tr>\n",
       "            <td>nan                              </td> <td>9    </td>\n",
       "        </tr>\n",
       "    </tbody>\n",
       "</table>"
      ],
      "text/plain": [
       "Party                             | count\n",
       "Bipartisan                        | 195\n",
       "Bipartisan, but mostly Democratic | 5\n",
       "Bipartisan, but mostly Republican | 40\n",
       "Democrat                          | 921\n",
       "Independent                       | 3\n",
       "Republican                        | 1625\n",
       "nan                               | 9"
      ]
     },
     "execution_count": 63,
     "metadata": {},
     "output_type": "execute_result"
    }
   ],
   "source": [
    "#Use the group() function\n",
    "sports_don.group('Party')"
   ]
  },
  {
   "cell_type": "code",
   "execution_count": 56,
   "metadata": {},
   "outputs": [
    {
     "data": {
      "image/png": "[encoded data removed]",
      "text/plain": [
       "<Figure size 432x288 with 1 Axes>"
      ]
     },
     "metadata": {},
     "output_type": "display_data"
    }
   ],
   "source": [
    "party_distr = sports_don.group('Party')\n",
    "party_distr.sort('count', descending = True).barh('Party')"
   ]
  },
  {
   "cell_type": "markdown",
   "metadata": {},
   "source": [
    "As we can see from both the table and bar plot, the Republican party -- in terms of sheer number of donors -- has the most donations from wealthy sports donors. We also want to know the amount of money that was donated, not just the number of donations.  "
   ]
  },
  {
   "cell_type": "markdown",
   "metadata": {},
   "source": [
    "To do so, let's convert 'Amount' from categorical to numeric data. \n",
    "A RegEx, or Regular Expression, is a sequence of characters that forms a search pattern.\n",
    "RegEx can be used to check if a string contains the specified search pattern."
   ]
  },
  {
   "cell_type": "code",
   "execution_count": 84,
   "metadata": {},
   "outputs": [
    {
     "data": {
      "text/html": [
       "<div>\n",
       "<style scoped>\n",
       "    .dataframe tbody tr th:only-of-type {\n",
       "        vertical-align: middle;\n",
       "    }\n",
       "\n",
       "    .dataframe tbody tr th {\n",
       "        vertical-align: top;\n",
       "    }\n",
       "\n",
       "    .dataframe thead th {\n",
       "        text-align: right;\n",
       "    }\n",
       "</style>\n",
       "<table border=\"1\" class=\"dataframe\">\n",
       "  <thead>\n",
       "    <tr style=\"text-align: right;\">\n",
       "      <th></th>\n",
       "      <th>0</th>\n",
       "    </tr>\n",
       "  </thead>\n",
       "  <tbody>\n",
       "    <tr>\n",
       "      <th>0</th>\n",
       "      <td>Owner</td>\n",
       "    </tr>\n",
       "    <tr>\n",
       "      <th>1</th>\n",
       "      <td>Team</td>\n",
       "    </tr>\n",
       "    <tr>\n",
       "      <th>2</th>\n",
       "      <td>League</td>\n",
       "    </tr>\n",
       "    <tr>\n",
       "      <th>3</th>\n",
       "      <td>Recipient</td>\n",
       "    </tr>\n",
       "    <tr>\n",
       "      <th>4</th>\n",
       "      <td>Amount</td>\n",
       "    </tr>\n",
       "    <tr>\n",
       "      <th>5</th>\n",
       "      <td>Election Year</td>\n",
       "    </tr>\n",
       "    <tr>\n",
       "      <th>6</th>\n",
       "      <td>Party</td>\n",
       "    </tr>\n",
       "  </tbody>\n",
       "</table>\n",
       "</div>"
      ],
      "text/plain": [
       "               0\n",
       "0          Owner\n",
       "1           Team\n",
       "2         League\n",
       "3      Recipient\n",
       "4         Amount\n",
       "5  Election Year\n",
       "6          Party"
      ]
     },
     "execution_count": 84,
     "metadata": {},
     "output_type": "execute_result"
    }
   ],
   "source": [
    "#Python has a built-in package called re, which can be used to work with Regular Expressions.\n",
    "#Import the re module:\n",
    "\n",
    "import re\n",
    "\n",
    "#Store sports donation data as a pandas dataframe\n",
    "#import pandas as pd\n",
    "import pandas as pd\n",
    "\n",
    "df = pd.DataFrame(sports_don)\n",
    "\n",
    "#Use replace function to remove $ and , .Then convert to numeric with float\n",
    "df[df.columns[4:]] = df[df.columns[4:]].replace('[\\$,]', '', regex=True).astype(float)\n",
    "\n",
    "df"
   ]
  },
  {
   "cell_type": "code",
   "execution_count": 68,
   "metadata": {},
   "outputs": [
    {
     "data": {
      "text/html": [
       "<table border=\"1\" class=\"dataframe\">\n",
       "    <thead>\n",
       "        <tr>\n",
       "            <th>Election Year</th> <th>Party</th> <th>count</th>\n",
       "        </tr>\n",
       "    </thead>\n",
       "    <tbody>\n",
       "        <tr>\n",
       "            <td>2016         </td> <td>Bipartisan                       </td> <td>67   </td>\n",
       "        </tr>\n",
       "        <tr>\n",
       "            <td>2016         </td> <td>Bipartisan, but mostly Democratic</td> <td>2    </td>\n",
       "        </tr>\n",
       "        <tr>\n",
       "            <td>2016         </td> <td>Bipartisan, but mostly Republican</td> <td>12   </td>\n",
       "        </tr>\n",
       "        <tr>\n",
       "            <td>2016         </td> <td>Democrat                         </td> <td>295  </td>\n",
       "        </tr>\n",
       "        <tr>\n",
       "            <td>2016         </td> <td>Independent                      </td> <td>1    </td>\n",
       "        </tr>\n",
       "        <tr>\n",
       "            <td>2016         </td> <td>Republican                       </td> <td>567  </td>\n",
       "        </tr>\n",
       "        <tr>\n",
       "            <td>2016         </td> <td>nan                              </td> <td>2    </td>\n",
       "        </tr>\n",
       "        <tr>\n",
       "            <td>2018         </td> <td>Bipartisan                       </td> <td>65   </td>\n",
       "        </tr>\n",
       "        <tr>\n",
       "            <td>2018         </td> <td>Bipartisan, but mostly Democratic</td> <td>2    </td>\n",
       "        </tr>\n",
       "        <tr>\n",
       "            <td>2018         </td> <td>Bipartisan, but mostly Republican</td> <td>13   </td>\n",
       "        </tr>\n",
       "    </tbody>\n",
       "</table>\n",
       "<p>... (10 rows omitted)</p>"
      ],
      "text/plain": [
       "Election Year | Party                             | count\n",
       "2016          | Bipartisan                        | 67\n",
       "2016          | Bipartisan, but mostly Democratic | 2\n",
       "2016          | Bipartisan, but mostly Republican | 12\n",
       "2016          | Democrat                          | 295\n",
       "2016          | Independent                       | 1\n",
       "2016          | Republican                        | 567\n",
       "2016          | nan                               | 2\n",
       "2018          | Bipartisan                        | 65\n",
       "2018          | Bipartisan, but mostly Democratic | 2\n",
       "2018          | Bipartisan, but mostly Republican | 13\n",
       "... (10 rows omitted)"
      ]
     },
     "execution_count": 68,
     "metadata": {},
     "output_type": "execute_result"
    }
   ],
   "source": [
    "sports_don.groups(['Election Year', 'Party'])"
   ]
  },
  {
   "cell_type": "code",
   "execution_count": 70,
   "metadata": {},
   "outputs": [
    {
     "ename": "ValueError",
     "evalue": "The column 'Party' contains non-numerical values. A plot cannot be drawn for this column.",
     "output_type": "error",
     "traceback": [
      "\u001b[0;31m---------------------------------------------------------------------------\u001b[0m",
      "\u001b[0;31mValueError\u001b[0m                                Traceback (most recent call last)",
      "\u001b[0;32m<ipython-input-70-0dc6b3e7bf9a>\u001b[0m in \u001b[0;36m<module>\u001b[0;34m\u001b[0m\n\u001b[1;32m      1\u001b[0m \u001b[0mparty_distr\u001b[0m \u001b[0;34m=\u001b[0m \u001b[0msports_don\u001b[0m\u001b[0;34m.\u001b[0m\u001b[0mgroups\u001b[0m\u001b[0;34m(\u001b[0m\u001b[0;34m[\u001b[0m\u001b[0;34m'Election Year'\u001b[0m\u001b[0;34m,\u001b[0m \u001b[0;34m'Party'\u001b[0m\u001b[0;34m]\u001b[0m\u001b[0;34m)\u001b[0m\u001b[0;34m\u001b[0m\u001b[0;34m\u001b[0m\u001b[0m\n\u001b[0;32m----> 2\u001b[0;31m \u001b[0mparty_distr\u001b[0m\u001b[0;34m.\u001b[0m\u001b[0msort\u001b[0m\u001b[0;34m(\u001b[0m\u001b[0;34m'count'\u001b[0m\u001b[0;34m,\u001b[0m \u001b[0mdescending\u001b[0m \u001b[0;34m=\u001b[0m \u001b[0;32mTrue\u001b[0m\u001b[0;34m)\u001b[0m\u001b[0;34m.\u001b[0m\u001b[0mbarh\u001b[0m\u001b[0;34m(\u001b[0m\u001b[0;34m'Election Year'\u001b[0m\u001b[0;34m)\u001b[0m\u001b[0;34m\u001b[0m\u001b[0;34m\u001b[0m\u001b[0m\n\u001b[0m",
      "\u001b[0;32m/Applications/miniconda3/lib/python3.8/site-packages/datascience/tables.py\u001b[0m in \u001b[0;36mbarh\u001b[0;34m(self, column_for_categories, select, overlay, width, **vargs)\u001b[0m\n\u001b[1;32m   3129\u001b[0m             \u001b[0maxis\u001b[0m\u001b[0;34m.\u001b[0m\u001b[0mset_ylabel\u001b[0m\u001b[0;34m(\u001b[0m\u001b[0mylabel\u001b[0m\u001b[0;34m)\u001b[0m\u001b[0;34m\u001b[0m\u001b[0;34m\u001b[0m\u001b[0m\n\u001b[1;32m   3130\u001b[0m \u001b[0;34m\u001b[0m\u001b[0m\n\u001b[0;32m-> 3131\u001b[0;31m         \u001b[0mself\u001b[0m\u001b[0;34m.\u001b[0m\u001b[0m_visualize\u001b[0m\u001b[0;34m(\u001b[0m\u001b[0;34m''\u001b[0m\u001b[0;34m,\u001b[0m \u001b[0mlabels\u001b[0m\u001b[0;34m,\u001b[0m \u001b[0myticks\u001b[0m\u001b[0;34m,\u001b[0m \u001b[0moverlay\u001b[0m\u001b[0;34m,\u001b[0m \u001b[0mdraw\u001b[0m\u001b[0;34m,\u001b[0m \u001b[0mannotate\u001b[0m\u001b[0;34m,\u001b[0m \u001b[0mwidth\u001b[0m\u001b[0;34m=\u001b[0m\u001b[0mwidth\u001b[0m\u001b[0;34m,\u001b[0m \u001b[0mheight\u001b[0m\u001b[0;34m=\u001b[0m\u001b[0mheight\u001b[0m\u001b[0;34m)\u001b[0m\u001b[0;34m\u001b[0m\u001b[0;34m\u001b[0m\u001b[0m\n\u001b[0m\u001b[1;32m   3132\u001b[0m \u001b[0;34m\u001b[0m\u001b[0m\n\u001b[1;32m   3133\u001b[0m     \u001b[0;32mdef\u001b[0m \u001b[0mibarh\u001b[0m\u001b[0;34m(\u001b[0m\u001b[0mself\u001b[0m\u001b[0;34m,\u001b[0m \u001b[0mcolumn_for_categories\u001b[0m\u001b[0;34m=\u001b[0m\u001b[0;32mNone\u001b[0m\u001b[0;34m,\u001b[0m \u001b[0mselect\u001b[0m\u001b[0;34m=\u001b[0m\u001b[0;32mNone\u001b[0m\u001b[0;34m,\u001b[0m \u001b[0moverlay\u001b[0m\u001b[0;34m=\u001b[0m\u001b[0;32mTrue\u001b[0m\u001b[0;34m,\u001b[0m \u001b[0mwidth\u001b[0m\u001b[0;34m=\u001b[0m\u001b[0;32mNone\u001b[0m\u001b[0;34m,\u001b[0m \u001b[0mshow\u001b[0m\u001b[0;34m=\u001b[0m\u001b[0;32mTrue\u001b[0m\u001b[0;34m,\u001b[0m \u001b[0;34m**\u001b[0m\u001b[0mvargs\u001b[0m\u001b[0;34m)\u001b[0m\u001b[0;34m:\u001b[0m\u001b[0;34m\u001b[0m\u001b[0;34m\u001b[0m\u001b[0m\n",
      "\u001b[0;32m/Applications/miniconda3/lib/python3.8/site-packages/datascience/tables.py\u001b[0m in \u001b[0;36m_visualize\u001b[0;34m(self, x_label, y_labels, ticks, overlay, draw, annotate, width, height)\u001b[0m\n\u001b[1;32m   4018\u001b[0m         \u001b[0;32mfor\u001b[0m \u001b[0mlabel\u001b[0m \u001b[0;32min\u001b[0m \u001b[0my_labels\u001b[0m\u001b[0;34m:\u001b[0m\u001b[0;34m\u001b[0m\u001b[0;34m\u001b[0m\u001b[0m\n\u001b[1;32m   4019\u001b[0m             \u001b[0;32mif\u001b[0m \u001b[0;32mnot\u001b[0m \u001b[0mall\u001b[0m\u001b[0;34m(\u001b[0m\u001b[0misinstance\u001b[0m\u001b[0;34m(\u001b[0m\u001b[0mx\u001b[0m\u001b[0;34m,\u001b[0m \u001b[0mnumbers\u001b[0m\u001b[0;34m.\u001b[0m\u001b[0mReal\u001b[0m\u001b[0;34m)\u001b[0m \u001b[0;32mfor\u001b[0m \u001b[0mx\u001b[0m \u001b[0;32min\u001b[0m \u001b[0mself\u001b[0m\u001b[0;34m[\u001b[0m\u001b[0mlabel\u001b[0m\u001b[0;34m]\u001b[0m\u001b[0;34m)\u001b[0m\u001b[0;34m:\u001b[0m\u001b[0;34m\u001b[0m\u001b[0;34m\u001b[0m\u001b[0m\n\u001b[0;32m-> 4020\u001b[0;31m                 raise ValueError(\"The column '{0}' contains non-numerical \"\n\u001b[0m\u001b[1;32m   4021\u001b[0m                     \u001b[0;34m\"values. A plot cannot be drawn for this column.\"\u001b[0m\u001b[0;34m\u001b[0m\u001b[0;34m\u001b[0m\u001b[0m\n\u001b[1;32m   4022\u001b[0m                     .format(label))\n",
      "\u001b[0;31mValueError\u001b[0m: The column 'Party' contains non-numerical values. A plot cannot be drawn for this column."
     ]
    }
   ],
   "source": [
    "party_distr = sports_don.groups(['Election Year', 'Party'])\n",
    "party_distr.sort('count', descending = True).barh('Election Year')"
   ]
  },
  {
   "cell_type": "markdown",
   "metadata": {},
   "source": [
    "Questions to consider: \n",
    "1)Which sports league leans the most toward one party\n",
    "2)Which league donates the most overall\n",
    "3)Which election year had the most donations from sports organizations"
   ]
  },
  {
   "cell_type": "code",
   "execution_count": null,
   "metadata": {},
   "outputs": [],
   "source": []
  }
 ],
 "metadata": {
  "kernelspec": {
   "display_name": "Python 3",
   "language": "python",
   "name": "python3"
  },
  "language_info": {
   "codemirror_mode": {
    "name": "ipython",
    "version": 3
   },
   "file_extension": ".py",
   "mimetype": "text/x-python",
   "name": "python",
   "nbconvert_exporter": "python",
   "pygments_lexer": "ipython3",
   "version": "3.8.3"
  }
 },
 "nbformat": 4,
 "nbformat_minor": 4
}
